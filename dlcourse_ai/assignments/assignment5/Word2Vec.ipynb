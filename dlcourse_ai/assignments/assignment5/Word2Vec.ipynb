{
 "cells": [
  {
   "cell_type": "markdown",
   "metadata": {},
   "source": [
    "# Задание 5.1 - Word2Vec\n",
    "\n",
    "В этом задании мы натренируем свои word vectors на очень небольшом датасете.\n",
    "Мы будем использовать самую простую версию word2vec, без negative sampling и других оптимизаций.\n",
    "\n",
    "Перед запуском нужно запустить скрипт `download_data.sh` чтобы скачать данные.\n",
    "\n",
    "Датасет и модель очень небольшие, поэтому это задание можно выполнить и без GPU."
   ]
  },
  {
   "cell_type": "code",
   "execution_count": null,
   "metadata": {},
   "outputs": [],
   "source": [
    "import torch\n",
    "import torch.nn as nn\n",
    "import torch.optim as optim\n",
    "from torch.utils.data import Dataset\n",
    "\n",
    "from torchvision import transforms\n",
    "\n",
    "import numpy as np\n",
    "import matplotlib.pyplot as plt\n",
    "\n",
    "# We'll use Principal Component Analysis (PCA) to visualize word vectors,\n",
    "# so make sure you install dependencies from requirements.txt!\n",
    "from sklearn.decomposition import PCA \n",
    "\n",
    "%matplotlib inline"
   ]
  },
  {
   "cell_type": "code",
   "execution_count": 2,
   "metadata": {
    "scrolled": false
   },
   "outputs": [
    {
     "name": "stdout",
     "output_type": "stream",
     "text": [
      "Num tokens: 19538\n",
      "dealer ['oily', 'arms', 'squad', 'pile-ups']\n",
      "archives ['ransacks', 'quick-buck']\n",
      "intentions ['temptation', 'salvation', 'thoughtful', 'faith']\n",
      "chokes ['virtually', 'self-consciousness']\n",
      "suburban ['aim', 'correctness', 'families']\n"
     ]
    }
   ],
   "source": [
    "import os\n",
    "import numpy as np\n",
    "\n",
    "class StanfordTreeBank:\n",
    "    '''\n",
    "    Wrapper for accessing Stanford Tree Bank Dataset\n",
    "    https://nlp.stanford.edu/sentiment/treebank.html\n",
    "    \n",
    "    Parses dataset, gives each token and index and provides lookups\n",
    "    from string token to index and back\n",
    "    \n",
    "    Allows to generate random context with sampling strategy described in\n",
    "    word2vec paper:\n",
    "    https://papers.nips.cc/paper/5021-distributed-representations-of-words-and-phrases-and-their-compositionality.pdf\n",
    "    '''\n",
    "    def __init__(self):\n",
    "        self.index_by_token = {}\n",
    "        self.token_by_index = []\n",
    "\n",
    "        self.sentences = []\n",
    "\n",
    "        self.token_freq = {}\n",
    "        \n",
    "        self.token_reject_by_index = None\n",
    "\n",
    "    def load_dataset(self, folder):\n",
    "        filename = os.path.join(folder, \"datasetSentences.txt\")\n",
    "\n",
    "        with open(filename, \"r\", encoding=\"latin1\") as f:\n",
    "            l = f.readline() # skip the first line\n",
    "            \n",
    "            for l in f:\n",
    "                splitted_line = l.strip().split()\n",
    "                words = [w.lower() for w in splitted_line[1:]] # First one is a number\n",
    "                    \n",
    "                self.sentences.append(words)\n",
    "                for word in words:\n",
    "                    if word in self.token_freq:\n",
    "                        self.token_freq[word] +=1 \n",
    "                    else:\n",
    "                        index = len(self.token_by_index)\n",
    "                        self.token_freq[word] = 1\n",
    "                        self.index_by_token[word] = index\n",
    "                        self.token_by_index.append(word)\n",
    "        self.compute_token_prob()\n",
    "                        \n",
    "    def compute_token_prob(self):\n",
    "        words_count = np.array([self.token_freq[token] for token in self.token_by_index])\n",
    "        words_freq = words_count / np.sum(words_count)\n",
    "        \n",
    "        # Following sampling strategy from word2vec paper:\n",
    "        # https://papers.nips.cc/paper/5021-distributed-representations-of-words-and-phrases-and-their-compositionality.pdf\n",
    "        self.token_reject_by_index = 1- np.sqrt(1e-5/words_freq)\n",
    "    \n",
    "    def check_reject(self, word):\n",
    "        return np.random.rand() > self.token_reject_by_index[self.index_by_token[word]]\n",
    "        \n",
    "    def get_random_context(self, context_length=5):\n",
    "        \"\"\"\n",
    "        Returns tuple of center word and list of context words\n",
    "        \"\"\"\n",
    "        sentence_sampled = []\n",
    "        while len(sentence_sampled) <= 2:\n",
    "            sentence_index = np.random.randint(len(self.sentences)) \n",
    "            sentence = self.sentences[sentence_index]\n",
    "            sentence_sampled = [word for word in sentence if self.check_reject(word)]\n",
    "    \n",
    "        center_word_index = np.random.randint(len(sentence_sampled))\n",
    "        \n",
    "        words_before = sentence_sampled[max(center_word_index - context_length//2,0):center_word_index]\n",
    "        words_after = sentence_sampled[center_word_index+1: center_word_index+1+context_length//2]\n",
    "        \n",
    "        return sentence_sampled[center_word_index], words_before+words_after\n",
    "    \n",
    "    def num_tokens(self):\n",
    "        return len(self.token_by_index)\n",
    "        \n",
    "data = StanfordTreeBank()\n",
    "data.load_dataset(\"./stanfordSentimentTreebank/\")\n",
    "\n",
    "print(\"Num tokens:\", data.num_tokens())\n",
    "for i in range(5):\n",
    "    center_word, other_words = data.get_random_context(5)\n",
    "    print(center_word, other_words)"
   ]
  },
  {
   "cell_type": "markdown",
   "metadata": {},
   "source": [
    "# Имплеменируем PyTorch-style Dataset для Word2Vec\n",
    "\n",
    "Этот Dataset должен сгенерировать много случайных контекстов и превратить их в сэмплы для тренировки.\n",
    "\n",
    "Напоминаем, что word2vec модель получает на вход One-hot вектор слова и тренирует простую сеть для предсказания на его основе соседних слов.\n",
    "Из набора слово-контекст создается N сэмплов (где N - количество слов в контексте):\n",
    "\n",
    "Например:\n",
    "\n",
    "Слово: `orders` и контекст: `['love', 'nicest', 'to', '50-year']` создадут 4 сэмпла:\n",
    "- input: `orders`, target: `love`\n",
    "- input: `orders`, target: `nicest`\n",
    "- input: `orders`, target: `to`\n",
    "- input: `orders`, target: `50-year`\n",
    "\n",
    "Все слова на входе и на выходе закодированы через one-hot encoding, с размером вектора равным количеству токенов."
   ]
  },
  {
   "cell_type": "code",
   "execution_count": 3,
   "metadata": {},
   "outputs": [
    {
     "name": "stdout",
     "output_type": "stream",
     "text": [
      "Sample - input: tensor([0., 0., 0.,  ..., 0., 0., 0.]), target: 5258\n"
     ]
    }
   ],
   "source": [
    "class Word2VecPlain(Dataset):\n",
    "    '''\n",
    "    PyTorch Dataset for plain Word2Vec.\n",
    "    Accepts StanfordTreebank as data and is able to generate dataset based on\n",
    "    a number of random contexts\n",
    "    '''\n",
    "    def __init__(self, data, num_contexts=30000):\n",
    "        '''\n",
    "        Initializes Word2VecPlain, but doesn't generate the samples yet\n",
    "        (for that, use generate_dataset)\n",
    "        Arguments:\n",
    "        data - StanfordTreebank instace\n",
    "        num_contexts - number of random contexts to use when generating a dataset\n",
    "        '''\n",
    "        # TODO: Implement what you need for other methods!\n",
    "        self.data = data\n",
    "        self.num_contexts = num_contexts\n",
    "        self.num_tokens = self.data.num_tokens()\n",
    "    \n",
    "    def generate_dataset(self):\n",
    "        '''\n",
    "        Generates dataset samples from random contexts\n",
    "        Note: there will be more samples than contexts because every context\n",
    "        can generate more than one sample\n",
    "        '''\n",
    "        # TODO: Implement generating the dataset\n",
    "        # You should sample num_contexts contexts from the data and turn them into samples\n",
    "        # Note you will have several samples from one context\n",
    "        self.samples = []\n",
    "        \n",
    "        for i in range(self.num_contexts):\n",
    "            center_word, other_words = self.data.get_random_context()\n",
    "            \n",
    "            center_word_oh = np.zeros(self.num_tokens)\n",
    "            center_word_oh[self.data.index_by_token[center_word]] = 1\n",
    "            center_word_oh = torch.Tensor(center_word_oh)\n",
    "                \n",
    "            for word in other_words:\n",
    "                target = [self.data.index_by_token[word]]\n",
    "                target = torch.LongTensor(target)\n",
    "                \n",
    "                self.samples.append((center_word_oh, target))   \n",
    "        \n",
    "    def __len__(self):\n",
    "        '''\n",
    "        Returns total number of samples\n",
    "        '''\n",
    "        # TODO: Return the number of samples\n",
    "        return len(self.samples)\n",
    "    \n",
    "    def __getitem__(self, index):\n",
    "        '''\n",
    "        Returns i-th sample\n",
    "        \n",
    "        Return values:\n",
    "        input_vector - torch.Tensor with one-hot representation of the input vector\n",
    "        output_index - index of the target word (not torch.Tensor!)\n",
    "        '''\n",
    "        # TODO: Generate tuple of 2 return arguments for i-th sample    \n",
    "        return self.samples[index]\n",
    "\n",
    "dataset = Word2VecPlain(data, 10)\n",
    "dataset.generate_dataset()\n",
    "input_vector, target = dataset[3]\n",
    "print(\"Sample - input: %s, target: %s\" % (input_vector, int(target))) # target should be able to convert to int\n",
    "assert isinstance(input_vector, torch.Tensor)\n",
    "assert torch.sum(input_vector) == 1.0\n",
    "assert input_vector.shape[0] == data.num_tokens()"
   ]
  },
  {
   "cell_type": "markdown",
   "metadata": {},
   "source": [
    "# Создаем модель и тренируем ее"
   ]
  },
  {
   "cell_type": "code",
   "execution_count": 4,
   "metadata": {},
   "outputs": [
    {
     "data": {
      "text/plain": [
       "Sequential(\n",
       "  (0): Linear(in_features=19538, out_features=10, bias=False)\n",
       "  (1): Linear(in_features=10, out_features=19538, bias=False)\n",
       ")"
      ]
     },
     "execution_count": 4,
     "metadata": {},
     "output_type": "execute_result"
    }
   ],
   "source": [
    "# Create the usual PyTorch structures\n",
    "dataset = Word2VecPlain(data, 30000)\n",
    "dataset.generate_dataset()\n",
    "\n",
    "# We'll be training very small word vectors!\n",
    "wordvec_dim = 10\n",
    "\n",
    "# We can use a standard sequential model for this\n",
    "nn_model = nn.Sequential(\n",
    "            nn.Linear(dataset.num_tokens, wordvec_dim, bias=False),\n",
    "            nn.Linear(wordvec_dim, dataset.num_tokens, bias=False), \n",
    "         )\n",
    "nn_model.type(torch.FloatTensor)"
   ]
  },
  {
   "cell_type": "code",
   "execution_count": 5,
   "metadata": {},
   "outputs": [],
   "source": [
    "def extract_word_vectors(nn_model):\n",
    "    '''\n",
    "    Extracts word vectors from the model\n",
    "    \n",
    "    Returns:\n",
    "    input_vectors: torch.Tensor with dimensions (num_tokens, num_dimensions)\n",
    "    output_vectors: torch.Tensor with dimensions (num_tokens, num_dimensions)\n",
    "    '''\n",
    "    # TODO: Implement extracting word vectors from param weights\n",
    "    # return tuple of input vectors and output vectos \n",
    "    # Hint: you can access weights as Tensors through nn.Linear class attributes\n",
    "    U = nn_model[0].weight.detach().numpy().copy()\n",
    "    input_vectors = torch.Tensor(U.T)\n",
    "    \n",
    "    V = nn_model[1].weight.detach().numpy().copy()\n",
    "    output_vectors = torch.Tensor(V)\n",
    "    \n",
    "    return input_vectors, output_vectors\n",
    "    \n",
    "untrained_input_vectors, untrained_output_vectors = extract_word_vectors(nn_model)\n",
    "assert untrained_input_vectors.shape == (data.num_tokens(), wordvec_dim)\n",
    "assert untrained_output_vectors.shape == (data.num_tokens(), wordvec_dim)"
   ]
  },
  {
   "cell_type": "code",
   "execution_count": 6,
   "metadata": {},
   "outputs": [],
   "source": [
    "def train_model(model, dataset, train_loader, optimizer, scheduler, num_epochs):\n",
    "    '''\n",
    "    Trains plain word2vec using cross-entropy loss and regenerating dataset every epoch\n",
    "    \n",
    "    Returns:\n",
    "    loss_history, train_history\n",
    "    '''\n",
    "    \n",
    "    loss = nn.CrossEntropyLoss().type(torch.FloatTensor)\n",
    "    \n",
    "    loss_history = []\n",
    "    train_history = []\n",
    "    for epoch in range(num_epochs):\n",
    "        model.train() # Enter train mode\n",
    "        \n",
    "        dataset.generate_dataset() # Regenerate dataset every epoch\n",
    "        \n",
    "        # TODO Implement training for this model\n",
    "        # Note we don't have any validation set here because our purpose is the word vectors,\n",
    "        # not the predictive performance of the model\n",
    "        #\n",
    "        # And don't forget to step the learing rate scheduler! \n",
    "        loss_accum = 0\n",
    "        correct_samples = 0\n",
    "        total_samples = 0\n",
    "        for i_step, (input_vector, target) in enumerate(train_loader):\n",
    "            prediction = model(input_vector)\n",
    "            loss_value = loss(prediction, target.T[0])\n",
    "            \n",
    "            optimizer.zero_grad()\n",
    "            loss_value.backward()\n",
    "            optimizer.step()\n",
    "            \n",
    "            _, indices = torch.max(prediction, 1)\n",
    "            correct_samples += torch.sum(indices == target)\n",
    "            total_samples += input_vector.shape[0]\n",
    "            \n",
    "            loss_accum += loss_value\n",
    "\n",
    "        ave_loss = loss_accum / (i_step + 1)\n",
    "        train_accuracy = float(correct_samples) / total_samples\n",
    "        \n",
    "        loss_history.append(float(ave_loss))\n",
    "        train_history.append(train_accuracy)\n",
    "        \n",
    "        scheduler.step()\n",
    "        \n",
    "        print(\"Epoch %i, Average loss: %f, Train accuracy: %f\" % (epoch + 1, ave_loss, train_accuracy))\n",
    "        \n",
    "    return loss_history, train_history"
   ]
  },
  {
   "cell_type": "markdown",
   "metadata": {},
   "source": [
    "# Ну и наконец тренировка!\n",
    "\n",
    "Добейтесь значения ошибки меньше **8.0**."
   ]
  },
  {
   "cell_type": "code",
   "execution_count": 7,
   "metadata": {},
   "outputs": [
    {
     "name": "stdout",
     "output_type": "stream",
     "text": [
      "Epoch 1, Average loss: 9.878166, Train accuracy: 0.002728\n",
      "Epoch 2, Average loss: 9.873892, Train accuracy: 0.005141\n",
      "Epoch 3, Average loss: 9.869176, Train accuracy: 0.013100\n",
      "Epoch 4, Average loss: 9.861002, Train accuracy: 0.030290\n",
      "Epoch 5, Average loss: 9.842990, Train accuracy: 0.047458\n",
      "Epoch 6, Average loss: 9.799981, Train accuracy: 0.053474\n",
      "Epoch 7, Average loss: 9.735680, Train accuracy: 0.056837\n",
      "Epoch 8, Average loss: 9.656715, Train accuracy: 0.060894\n",
      "Epoch 9, Average loss: 9.578512, Train accuracy: 0.067572\n",
      "Epoch 10, Average loss: 9.516201, Train accuracy: 0.068067\n",
      "Epoch 11, Average loss: 9.460932, Train accuracy: 0.057818\n",
      "Epoch 12, Average loss: 9.414675, Train accuracy: 0.063178\n",
      "Epoch 13, Average loss: 9.374427, Train accuracy: 0.064164\n",
      "Epoch 14, Average loss: 9.332832, Train accuracy: 0.059824\n",
      "Epoch 15, Average loss: 9.303215, Train accuracy: 0.066341\n",
      "Epoch 16, Average loss: 9.260777, Train accuracy: 0.058257\n",
      "Epoch 17, Average loss: 9.218095, Train accuracy: 0.064092\n",
      "Epoch 18, Average loss: 9.179289, Train accuracy: 0.060328\n",
      "Epoch 19, Average loss: 9.145770, Train accuracy: 0.057512\n",
      "Epoch 20, Average loss: 9.101995, Train accuracy: 0.058569\n",
      "Epoch 21, Average loss: 9.063276, Train accuracy: 0.065939\n",
      "Epoch 22, Average loss: 9.007240, Train accuracy: 0.069373\n",
      "Epoch 23, Average loss: 8.965476, Train accuracy: 0.070621\n",
      "Epoch 24, Average loss: 8.918824, Train accuracy: 0.075891\n",
      "Epoch 25, Average loss: 8.870556, Train accuracy: 0.071232\n",
      "Epoch 26, Average loss: 8.829531, Train accuracy: 0.069436\n",
      "Epoch 27, Average loss: 8.795351, Train accuracy: 0.076731\n",
      "Epoch 28, Average loss: 8.741755, Train accuracy: 0.075642\n",
      "Epoch 29, Average loss: 8.712095, Train accuracy: 0.078904\n",
      "Epoch 30, Average loss: 8.680427, Train accuracy: 0.080702\n",
      "Epoch 31, Average loss: 8.625299, Train accuracy: 0.084912\n",
      "Epoch 32, Average loss: 8.606682, Train accuracy: 0.082385\n",
      "Epoch 33, Average loss: 8.578030, Train accuracy: 0.089234\n",
      "Epoch 34, Average loss: 8.555280, Train accuracy: 0.079456\n",
      "Epoch 35, Average loss: 8.504499, Train accuracy: 0.086914\n",
      "Epoch 36, Average loss: 8.474396, Train accuracy: 0.089081\n",
      "Epoch 37, Average loss: 8.441884, Train accuracy: 0.088246\n",
      "Epoch 38, Average loss: 8.418520, Train accuracy: 0.092367\n",
      "Epoch 39, Average loss: 8.388072, Train accuracy: 0.091696\n",
      "Epoch 40, Average loss: 8.353052, Train accuracy: 0.094347\n",
      "Epoch 41, Average loss: 8.321518, Train accuracy: 0.097196\n",
      "Epoch 42, Average loss: 8.307988, Train accuracy: 0.097460\n",
      "Epoch 43, Average loss: 8.295158, Train accuracy: 0.096975\n",
      "Epoch 44, Average loss: 8.274330, Train accuracy: 0.097955\n",
      "Epoch 45, Average loss: 8.249861, Train accuracy: 0.102391\n",
      "Epoch 46, Average loss: 8.212298, Train accuracy: 0.106501\n",
      "Epoch 47, Average loss: 8.209226, Train accuracy: 0.104264\n",
      "Epoch 48, Average loss: 8.202048, Train accuracy: 0.101171\n",
      "Epoch 49, Average loss: 8.199002, Train accuracy: 0.104053\n",
      "Epoch 50, Average loss: 8.150733, Train accuracy: 0.098798\n"
     ]
    }
   ],
   "source": [
    "# Finally, let's train the model!\n",
    "\n",
    "# TODO: We use placeholder values for hyperparameters - you will need to find better values!\n",
    "optimizer = optim.SGD(nn_model.parameters(), lr=1.5, weight_decay=0)\n",
    "scheduler = optim.lr_scheduler.StepLR(optimizer, step_size=10, gamma=0.97)\n",
    "train_loader = torch.utils.data.DataLoader(dataset, batch_size=25)\n",
    "\n",
    "loss_history, train_history = train_model(nn_model, dataset, train_loader, optimizer, scheduler, 50)"
   ]
  },
  {
   "cell_type": "code",
   "execution_count": 8,
   "metadata": {},
   "outputs": [
    {
     "data": {
      "text/plain": [
       "[<matplotlib.lines.Line2D at 0x1cc1dd239a0>]"
      ]
     },
     "execution_count": 8,
     "metadata": {},
     "output_type": "execute_result"
    },
    {
     "data": {
      "image/png": "[encoded data removed]",
      "text/plain": [
       "<Figure size 432x288 with 2 Axes>"
      ]
     },
     "metadata": {
      "needs_background": "light"
     },
     "output_type": "display_data"
    }
   ],
   "source": [
    "# Visualize training graphs\n",
    "plt.subplot(211)\n",
    "plt.plot(train_history)\n",
    "plt.subplot(212)\n",
    "plt.plot(loss_history)"
   ]
  },
  {
   "cell_type": "code",
   "execution_count": 9,
   "metadata": {},
   "outputs": [
    {
     "name": "stdout",
     "output_type": "stream",
     "text": [
      "Epoch 1, Average loss: 8.149811, Train accuracy: 0.106299\n",
      "Epoch 2, Average loss: 8.135385, Train accuracy: 0.105865\n",
      "Epoch 3, Average loss: 8.121411, Train accuracy: 0.105229\n",
      "Epoch 4, Average loss: 8.119000, Train accuracy: 0.107791\n",
      "Epoch 5, Average loss: 8.079145, Train accuracy: 0.106708\n",
      "Epoch 6, Average loss: 8.084352, Train accuracy: 0.108341\n",
      "Epoch 7, Average loss: 8.049874, Train accuracy: 0.116040\n",
      "Epoch 8, Average loss: 8.062276, Train accuracy: 0.108179\n",
      "Epoch 9, Average loss: 8.038090, Train accuracy: 0.111954\n",
      "Epoch 10, Average loss: 8.034918, Train accuracy: 0.111745\n",
      "Epoch 11, Average loss: 8.026845, Train accuracy: 0.109789\n",
      "Epoch 12, Average loss: 8.000266, Train accuracy: 0.114431\n",
      "Epoch 13, Average loss: 7.999851, Train accuracy: 0.110046\n",
      "Epoch 14, Average loss: 7.976107, Train accuracy: 0.113362\n",
      "Epoch 15, Average loss: 7.978471, Train accuracy: 0.112257\n",
      "Epoch 16, Average loss: 7.980789, Train accuracy: 0.114230\n",
      "Epoch 17, Average loss: 7.966372, Train accuracy: 0.115318\n",
      "Epoch 18, Average loss: 7.944348, Train accuracy: 0.115039\n",
      "Epoch 19, Average loss: 7.946512, Train accuracy: 0.118615\n",
      "Epoch 20, Average loss: 7.938135, Train accuracy: 0.113558\n",
      "Epoch 21, Average loss: 7.947546, Train accuracy: 0.116528\n",
      "Epoch 22, Average loss: 7.921999, Train accuracy: 0.120086\n",
      "Epoch 23, Average loss: 7.908524, Train accuracy: 0.117805\n",
      "Epoch 24, Average loss: 7.914814, Train accuracy: 0.122254\n",
      "Epoch 25, Average loss: 7.915053, Train accuracy: 0.116708\n",
      "Epoch 26, Average loss: 7.897675, Train accuracy: 0.122064\n",
      "Epoch 27, Average loss: 7.890028, Train accuracy: 0.120585\n",
      "Epoch 28, Average loss: 7.884429, Train accuracy: 0.118800\n",
      "Epoch 29, Average loss: 7.862883, Train accuracy: 0.116131\n",
      "Epoch 30, Average loss: 7.853395, Train accuracy: 0.122968\n"
     ]
    }
   ],
   "source": [
    "optimizer = optim.SGD(nn_model.parameters(), lr=1.3, weight_decay=0)\n",
    "scheduler = optim.lr_scheduler.StepLR(optimizer, step_size=10, gamma=0.97)\n",
    "train_loader = torch.utils.data.DataLoader(dataset, batch_size=25)\n",
    "\n",
    "loss_history, train_history = train_model(nn_model, dataset, train_loader, optimizer, scheduler, 30)"
   ]
  },
  {
   "cell_type": "code",
   "execution_count": 10,
   "metadata": {},
   "outputs": [
    {
     "data": {
      "text/plain": [
       "[<matplotlib.lines.Line2D at 0x1cc1de3b610>]"
      ]
     },
     "execution_count": 10,
     "metadata": {},
     "output_type": "execute_result"
    },
    {
     "data": {
      "image/png": "[encoded data removed]",
      "text/plain": [
       "<Figure size 432x288 with 2 Axes>"
      ]
     },
     "metadata": {
      "needs_background": "light"
     },
     "output_type": "display_data"
    }
   ],
   "source": [
    "# Visualize training graphs\n",
    "plt.subplot(211)\n",
    "plt.plot(train_history)\n",
    "plt.subplot(212)\n",
    "plt.plot(loss_history)"
   ]
  },
  {
   "cell_type": "markdown",
   "metadata": {},
   "source": [
    "# Визуализируем вектора для разного вида слов до и после тренировки\n",
    "\n",
    "В случае успешной тренировки вы должны увидеть как вектора слов разных типов (например, знаков препинания, предлогов и остальных) разделяются семантически.\n",
    "\n",
    "Студенты - в качестве выполненного задания присылайте notebook с диаграммами!"
   ]
  },
  {
   "cell_type": "code",
   "execution_count": 11,
   "metadata": {},
   "outputs": [
    {
     "data": {
      "image/png": "[encoded data removed]",
      "text/plain": [
       "<Figure size 504x504 with 1 Axes>"
      ]
     },
     "metadata": {
      "needs_background": "light"
     },
     "output_type": "display_data"
    },
    {
     "data": {
      "image/png": "[encoded data removed]",
      "text/plain": [
       "<Figure size 504x504 with 1 Axes>"
      ]
     },
     "metadata": {
      "needs_background": "light"
     },
     "output_type": "display_data"
    }
   ],
   "source": [
    "trained_input_vectors, trained_output_vectors = extract_word_vectors(nn_model)\n",
    "assert trained_input_vectors.shape == (data.num_tokens(), wordvec_dim)\n",
    "assert trained_output_vectors.shape == (data.num_tokens(), wordvec_dim)\n",
    "\n",
    "def visualize_vectors(input_vectors, output_vectors, title=''):\n",
    "    full_vectors = torch.cat((input_vectors, output_vectors), 0)\n",
    "    wordvec_embedding = PCA(n_components=2).fit_transform(full_vectors)\n",
    "\n",
    "    # Helpful words form CS244D example\n",
    "    # http://cs224d.stanford.edu/assignment1/index.html\n",
    "    visualize_words = {'green': [\"the\", \"a\", \"an\"], \n",
    "                      'blue': [\",\", \".\", \"?\", \"!\", \"``\", \"''\", \"--\"], \n",
    "                      'brown': [\"good\", \"great\", \"cool\", \"brilliant\", \"wonderful\", \n",
    "                              \"well\", \"amazing\", \"worth\", \"sweet\", \"enjoyable\"],\n",
    "                      'orange': [\"boring\", \"bad\", \"waste\", \"dumb\", \"annoying\", \"stupid\"],\n",
    "                      'red': ['tell', 'told', 'said', 'say', 'says', 'tells', 'goes', 'go', 'went']\n",
    "                     }\n",
    "\n",
    "    plt.figure(figsize=(7,7))\n",
    "    plt.suptitle(title)\n",
    "    for color, words in visualize_words.items():\n",
    "        points = np.array([wordvec_embedding[data.index_by_token[w]] for w in words])\n",
    "        for i, word in enumerate(words):\n",
    "            plt.text(points[i, 0], points[i, 1], word, color=color,horizontalalignment='center')\n",
    "        plt.scatter(points[:, 0], points[:, 1], c=color, alpha=0.3, s=0.5)\n",
    "\n",
    "visualize_vectors(untrained_input_vectors, untrained_output_vectors, \"Untrained word vectors\")\n",
    "visualize_vectors(trained_input_vectors, trained_output_vectors, \"Trained word vectors\")"
   ]
  }
 ],
 "metadata": {
  "kernelspec": {
   "display_name": "Python 3",
   "language": "python",
   "name": "python3"
  },
  "language_info": {
   "codemirror_mode": {
    "name": "ipython",
    "version": 3
   },
   "file_extension": ".py",
   "mimetype": "text/x-python",
   "name": "python",
   "nbconvert_exporter": "python",
   "pygments_lexer": "ipython3",
   "version": "3.8.8"
  }
 },
 "nbformat": 4,
 "nbformat_minor": 2
}
