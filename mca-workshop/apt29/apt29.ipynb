{
 "cells": [
  {
   "cell_type": "markdown",
   "metadata": {},
   "source": [
    "# Записи телеметрии"
   ]
  },
  {
   "cell_type": "markdown",
   "metadata": {},
   "source": [
    "\n",
    "|               |    |\n",
    "|:--------------|:---|\n",
    "| Группа        | APT29 |\n",
    "| Описание      | Группа угроз APT29 оперирует как минимум с 2008 года, в 2015 году провела одну из самых известных своих атак. Её содержание ниже. |\n",
    "| Авторы         | [Воркшоп МЦА](http://mca.nsu.ru/projects/) |\n",
    "    "
   ]
  },
  {
   "cell_type": "markdown",
   "metadata": {},
   "source": [
    "## Импортируем библиотеки"
   ]
  },
  {
   "cell_type": "code",
   "execution_count": null,
   "metadata": {},
   "outputs": [],
   "source": [
    "from pyspark.sql import SparkSession"
   ]
  },
  {
   "cell_type": "markdown",
   "metadata": {},
   "source": [
    "## Запускаем сессию Spark"
   ]
  },
  {
   "cell_type": "code",
   "execution_count": null,
   "metadata": {},
   "outputs": [],
   "source": [
    "spark = SparkSession.builder.getOrCreate()\n",
    "spark.conf.set(\"spark.sql.caseSensitive\", \"true\")"
   ]
  },
  {
   "cell_type": "markdown",
   "metadata": {},
   "source": [
    "## Распаковываем логи атаки"
   ]
  },
  {
   "cell_type": "code",
   "execution_count": null,
   "metadata": {},
   "outputs": [],
   "source": [
    "!wget https://github.com/hunters-forge/mordor/raw/master/datasets/large/apt29/day1/apt29_evals_day1_manual.zip"
   ]
  },
  {
   "cell_type": "code",
   "execution_count": null,
   "metadata": {},
   "outputs": [],
   "source": [
    "!unzip apt29_evals_day1_manual.zip"
   ]
  },
  {
   "cell_type": "markdown",
   "metadata": {},
   "source": [
    "## Импортируем логи атаки"
   ]
  },
  {
   "cell_type": "code",
   "execution_count": null,
   "metadata": {},
   "outputs": [],
   "source": [
    "df_day1_host = spark.read.json('apt29_evals_day1_manual_2020-05-01225525.json')"
   ]
  },
  {
   "cell_type": "markdown",
   "metadata": {},
   "source": [
    "## Создаём временный SQL View"
   ]
  },
  {
   "cell_type": "code",
   "execution_count": null,
   "metadata": {},
   "outputs": [],
   "source": [
    "df_day1_host.createTempView('apt29Host')"
   ]
  },
  {
   "cell_type": "markdown",
   "metadata": {},
   "source": [
    "## У таблицы apt29 множество столбцов, их можно посмотреть"
   ]
  },
  {
   "cell_type": "code",
   "execution_count": null,
   "metadata": {},
   "outputs": [],
   "source": [
    "df = spark.sql(\n",
    "'''\n",
    "DESCRIBE apt29Host\n",
    "'''\n",
    ")\n",
    "df.show(10,truncate = False, vertical = False)"
   ]
  },
  {
   "cell_type": "markdown",
   "metadata": {},
   "source": [
    "## Нападающий - шаги обнаружения"
   ]
  },
  {
   "cell_type": "markdown",
   "metadata": {},
   "source": [
    "## 1.A.1. User Execution\n",
    "**Procedure:** Пользователь исполнил rcs.3aka3.doc\n",
    "\n",
    "**Criteria:** Процесс rcs.3aka3.doc запущен процессом explorer.exe\n"
   ]
  },
  {
   "cell_type": "markdown",
   "metadata": {},
   "source": [
    "### Как правило, данные лежат в логах sysmon. Про поля sysmon можно [почитать здесь](https://docs.microsoft.com/en-us/sysinternals/downloads/sysmon)."
   ]
  },
  {
   "cell_type": "code",
   "execution_count": null,
   "metadata": {},
   "outputs": [],
   "source": [
    "df = spark.sql(\n",
    "'''\n",
    "SELECT Message\n",
    "FROM apt29Host\n",
    "WHERE Channel = \"Microsoft-Windows-Sysmon/Operational\"\n",
    "    AND EventID = 1\n",
    "    AND LOWER(ParentImage) LIKE \"%explorer.exe\"\n",
    "    AND LOWER(Image) LIKE \"%3aka3%\"\n",
    "\n",
    "'''\n",
    ")\n",
    "df.show(100,truncate = False, vertical = True)"
   ]
  },
  {
   "cell_type": "markdown",
   "metadata": {},
   "source": [
    "### Security-логи Windows немного не такие, как логи sysmon, иногда информация только в одном из этих логов. См [Sysmon Config.xml recommendations compared to Windows logs](https://static1.squarespace.com/static/552092d5e4b0661088167e5c/t/5d5588b51fd81f0001471db4/1565886646582/Windows+Sysmon+Logging+Cheat+Sheet_Aug_2019.pdf)"
   ]
  },
  {
   "cell_type": "code",
   "execution_count": null,
   "metadata": {},
   "outputs": [],
   "source": [
    "df = spark.sql(\n",
    "'''\n",
    "SELECT Message\n",
    "FROM apt29Host\n",
    "WHERE LOWER(Channel) = \"security\"\n",
    "    AND EventID = 4688\n",
    "    AND LOWER(ParentProcessName) LIKE \"%explorer.exe\"\n",
    "    AND LOWER(NewProcessName) LIKE \"%3aka3%\"\n",
    "\n",
    "'''\n",
    ")\n",
    "df.show(100,truncate = False, vertical = True)"
   ]
  },
  {
   "cell_type": "markdown",
   "metadata": {},
   "source": [
    "## 1.A.2. Masquerading\n",
    "**Procedure:** Использован символ unicode right-to-left override (RTLO) для обфусцирования имени файла rcs.3aka3.doc (изначально cod.3aka.scr)\n",
    "\n",
    "**Criteria:** Пристутствие right-to-left override character (U+202E) в процессе rcs.3aka.doc ИЛИ в исходном имени файла (cod.3aka.scr)\n"
   ]
  },
  {
   "cell_type": "code",
   "execution_count": null,
   "metadata": {},
   "outputs": [],
   "source": [
    "df = spark.sql(\n",
    "'''\n",
    "SELECT Message\n",
    "FROM apt29Host\n",
    "WHERE Channel = \"Microsoft-Windows-Sysmon/Operational\"\n",
    "    AND EventID = 1\n",
    "    AND LOWER(Image) RLIKE '.*\\\\â€Ž|â€|â€ª|â€«|â€¬|â€|â€®.*'\n",
    "\n",
    "'''\n",
    ")\n",
    "df.show(100,truncate = False, vertical = True)"
   ]
  },
  {
   "cell_type": "code",
   "execution_count": null,
   "metadata": {},
   "outputs": [],
   "source": [
    "df = spark.sql(\n",
    "'''\n",
    "SELECT Message\n",
    "FROM apt29Host\n",
    "WHERE LOWER(Channel) = \"security\"\n",
    "    AND EventID = 4688\n",
    "    AND LOWER(NewProcessName) RLIKE '.*\\\\â€Ž|â€|â€ª|â€«|â€¬|â€|â€®.*'\n",
    "\n",
    "'''\n",
    ")\n",
    "df.show(100,truncate = False, vertical = True)"
   ]
  },
  {
   "cell_type": "markdown",
   "metadata": {},
   "source": [
    "## Здесь ещё множество тактик, техник и процедур..."
   ]
  },
  {
   "cell_type": "markdown",
   "metadata": {},
   "source": [
    "## 9.C.3. File Deletion\n",
    "**Procedure:** Удалён working.zip (из каталога AppData) на диске используя SDelete\n",
    "\n",
    "**Criteria:** sdelete64.exe удалил файл \\AppData\\Roaming\\working.zip\n"
   ]
  },
  {
   "cell_type": "code",
   "execution_count": null,
   "metadata": {},
   "outputs": [],
   "source": [
    "df = spark.sql(\n",
    "'''\n",
    "SELECT Message\n",
    "FROM apt29Host j\n",
    "INNER JOIN (\n",
    "    SELECT h.ProcessGuid\n",
    "    FROM apt29Host h\n",
    "    INNER JOIN (\n",
    "        SELECT f.ProcessGuid\n",
    "        FROM apt29Host f\n",
    "        INNER JOIN (\n",
    "          SELECT d.ProcessGuid\n",
    "          FROM apt29Host d\n",
    "          INNER JOIN (\n",
    "              SELECT b.ProcessGuid\n",
    "              FROM apt29Host b\n",
    "              INNER JOIN (\n",
    "                SELECT ProcessGuid\n",
    "                FROM apt29Host\n",
    "                WHERE Channel = \"Microsoft-Windows-Sysmon/Operational\"\n",
    "                    AND EventID = 1\n",
    "                    AND ParentImage LIKE '%services.exe'\n",
    "              ) a\n",
    "              ON b.ParentProcessGuid = a.ProcessGuid\n",
    "              WHERE Channel = \"Microsoft-Windows-Sysmon/Operational\"\n",
    "                AND Image LIKE '%python.exe'\n",
    "          ) c\n",
    "          ON d.ParentProcessGuid = c.ProcessGuid\n",
    "          WHERE Channel = \"Microsoft-Windows-Sysmon/Operational\"\n",
    "              AND EventID = 1\n",
    "        ) e\n",
    "        ON f.ParentProcessGuid = e.ProcessGuid\n",
    "        WHERE Channel = \"Microsoft-Windows-Sysmon/Operational\"\n",
    "          AND EventID = 1\n",
    "          AND Image LIKE '%cmd.exe'\n",
    "    ) g\n",
    "    ON h.ParentProcessGuid = g.ProcessGuid\n",
    "    WHERE Channel = \"Microsoft-Windows-Sysmon/Operational\"\n",
    "        AND h.EventID = 1\n",
    ") i\n",
    "ON j.ProcessGuid = i.ProcessGuid\n",
    "WHERE j.Channel = \"Microsoft-Windows-Sysmon/Operational\"\n",
    "    AND j.EventID = 23\n",
    "\n",
    "'''\n",
    ")\n",
    "df.show(100,truncate = False, vertical = True)"
   ]
  },
  {
   "cell_type": "markdown",
   "metadata": {},
   "source": [
    "## 9.C.4. File Deletion\n",
    "**Procedure:** SDelete удалён с диска, использована соманда del cmd.exe\n",
    "\n",
    "**Criteria:** cmd.exe удалил файл sdelete64.exe\n"
   ]
  },
  {
   "cell_type": "code",
   "execution_count": null,
   "metadata": {},
   "outputs": [],
   "source": [
    "df = spark.sql(\n",
    "'''\n",
    "SELECT h.Message\n",
    "FROM apt29Host h\n",
    "INNER JOIN (\n",
    "    SELECT f.ProcessGuid\n",
    "    FROM apt29Host f\n",
    "    INNER JOIN (\n",
    "      SELECT d.ProcessGuid\n",
    "      FROM apt29Host d\n",
    "      INNER JOIN (\n",
    "          SELECT b.ProcessGuid\n",
    "          FROM apt29Host b\n",
    "          INNER JOIN (\n",
    "            SELECT ProcessGuid\n",
    "            FROM apt29Host\n",
    "            WHERE Channel = \"Microsoft-Windows-Sysmon/Operational\"\n",
    "                AND EventID = 1\n",
    "                AND ParentImage LIKE '%services.exe'\n",
    "          ) a\n",
    "          ON b.ParentProcessGuid = a.ProcessGuid\n",
    "          WHERE Channel = \"Microsoft-Windows-Sysmon/Operational\"\n",
    "            AND Image LIKE '%python.exe'\n",
    "      ) c\n",
    "      ON d.ParentProcessGuid = c.ProcessGuid\n",
    "      WHERE Channel = \"Microsoft-Windows-Sysmon/Operational\"\n",
    "          AND EventID = 1\n",
    "    ) e\n",
    "    ON f.ParentProcessGuid = e.ProcessGuid\n",
    "    WHERE Channel = \"Microsoft-Windows-Sysmon/Operational\"\n",
    "      AND EventID = 1\n",
    "      AND Image LIKE '%cmd.exe'\n",
    ") g\n",
    "ON h.ProcessGuid = g.ProcessGuid\n",
    "WHERE Channel = \"Microsoft-Windows-Sysmon/Operational\"\n",
    "    AND h.EventID = 23\n",
    "\n",
    "'''\n",
    ")\n",
    "df.show(100,truncate = False, vertical = True)"
   ]
  }
 ],
 "metadata": {
  "kernelspec": {
   "display_name": "PySpark_Python3",
   "language": "python",
   "name": "pyspark3"
  },
  "language_info": {
   "codemirror_mode": {
    "name": "ipython",
    "version": 3
   },
   "file_extension": ".py",
   "mimetype": "text/x-python",
   "name": "python",
   "nbconvert_exporter": "python",
   "pygments_lexer": "ipython3",
   "version": "3.7.6"
  }
 },
 "nbformat": 4,
 "nbformat_minor": 4
}